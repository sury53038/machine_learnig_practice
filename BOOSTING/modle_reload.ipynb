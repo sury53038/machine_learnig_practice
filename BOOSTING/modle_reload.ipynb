{
 "cells": [
  {
   "cell_type": "code",
   "execution_count": 6,
   "id": "e5055f89",
   "metadata": {},
   "outputs": [],
   "source": [
    "import pickle"
   ]
  },
  {
   "cell_type": "code",
   "execution_count": 7,
   "id": "b59974b1",
   "metadata": {},
   "outputs": [],
   "source": [
    "with open('traveller_modle.pkl', 'rb') as f:\n",
    "    predictor = pickle.load(f)"
   ]
  },
  {
   "cell_type": "code",
   "execution_count": 12,
   "id": "c0aa72ca",
   "metadata": {},
   "outputs": [],
   "source": [
    "dp = [41.0,'Self Enquiry',3, 6.0, 'Salaried', 'Female', 3.0, 3.0, 'Deluxe', 3.0, 'Single', 1.0, 1, 2, 1, 'Manager',20993.0]"
   ]
  },
  {
   "cell_type": "code",
   "execution_count": 17,
   "id": "93f43070",
   "metadata": {},
   "outputs": [],
   "source": [
    "cols = ['Age', 'TypeofContact', 'CityTier', 'DurationOfPitch', 'Occupation',\n",
    "       'Gender', 'NumberOfPersonVisiting', 'NumberOfFollowups',\n",
    "       'ProductPitched', 'PreferredPropertyStar', 'MaritalStatus',\n",
    "       'NumberOfTrips', 'Passport', 'PitchSatisfactionScore', 'OwnCar',\n",
    "       'Designation', 'MonthlyIncome']"
   ]
  },
  {
   "cell_type": "code",
   "execution_count": null,
   "id": "bf68cb65",
   "metadata": {},
   "outputs": [
    {
     "name": "stdout",
     "output_type": "stream",
     "text": [
      "[1]\n"
     ]
    }
   ],
   "source": [
    "import pandas as pd\n",
    "\n",
    "dp_df = pd.DataFrame([dp], columns=cols)\n",
    "\n",
    "prediction = predictor.predict(dp_df)\n",
    "print(prediction)\n"
   ]
  },
  {
   "cell_type": "code",
   "execution_count": null,
   "id": "c1d11e6d",
   "metadata": {},
   "outputs": [],
   "source": []
  }
 ],
 "metadata": {
  "kernelspec": {
   "display_name": "base",
   "language": "python",
   "name": "python3"
  },
  "language_info": {
   "codemirror_mode": {
    "name": "ipython",
    "version": 3
   },
   "file_extension": ".py",
   "mimetype": "text/x-python",
   "name": "python",
   "nbconvert_exporter": "python",
   "pygments_lexer": "ipython3",
   "version": "3.12.7"
  }
 },
 "nbformat": 4,
 "nbformat_minor": 5
}
