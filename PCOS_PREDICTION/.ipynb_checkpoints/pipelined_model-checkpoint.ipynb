{
 "cells": [
  {
   "cell_type": "code",
   "execution_count": 14,
   "id": "16c0cbb1-931a-48b3-8c2e-98d93f504880",
   "metadata": {},
   "outputs": [],
   "source": [
    "import pickle\n",
    "import numpy as np"
   ]
  },
  {
   "cell_type": "code",
   "execution_count": 28,
   "id": "7c3717e3-94b5-4d47-a3f9-428d63fb99cb",
   "metadata": {},
   "outputs": [],
   "source": [
    "with open('models/decision_tree_pipeline.pkl','rb') as file:\n",
    "    dt_clf = pickle.load(file)"
   ]
  },
  {
   "cell_type": "code",
   "execution_count": 36,
   "id": "6e6029e9-ecaa-4d05-83aa-dae3b92e4eaf",
   "metadata": {},
   "outputs": [],
   "source": [
    "data_point = np.array([33, 33.0, 1, 80, 8],dtype=object).reshape(1,5)"
   ]
  },
  {
   "cell_type": "code",
   "execution_count": 40,
   "id": "d0f0c0e2-68bb-495e-87f7-67fc4131085a",
   "metadata": {},
   "outputs": [],
   "source": [
    "val = {\n",
    "    0 : \"NO PCOS\",\n",
    "    1 : \"PCOS\"\n",
    "}"
   ]
  },
  {
   "cell_type": "code",
   "execution_count": 48,
   "id": "fbd11208-9530-4a3b-865f-919f2bd20230",
   "metadata": {},
   "outputs": [
    {
     "data": {
      "text/plain": [
       "'PCOS'"
      ]
     },
     "execution_count": 48,
     "metadata": {},
     "output_type": "execute_result"
    }
   ],
   "source": [
    "val[dt_clf.predict(data_point)[0]]"
   ]
  },
  {
   "cell_type": "code",
   "execution_count": null,
   "id": "fdaf859f-9a3e-4010-8aa8-a7a522ff6104",
   "metadata": {},
   "outputs": [],
   "source": []
  }
 ],
 "metadata": {
  "kernelspec": {
   "display_name": "Python 3 (ipykernel)",
   "language": "python",
   "name": "python3"
  },
  "language_info": {
   "codemirror_mode": {
    "name": "ipython",
    "version": 3
   },
   "file_extension": ".py",
   "mimetype": "text/x-python",
   "name": "python",
   "nbconvert_exporter": "python",
   "pygments_lexer": "ipython3",
   "version": "3.12.7"
  }
 },
 "nbformat": 4,
 "nbformat_minor": 5
}
